{
 "cells": [
  {
   "cell_type": "code",
   "execution_count": 1,
   "metadata": {},
   "outputs": [],
   "source": [
    "import pandas as pd\n",
    "import numpy as np\n",
    "from sklearn.preprocessing import MultiLabelBinarizer\n",
    "from sklearn.model_selection import train_test_split\n",
    "from surprise import SVD, Dataset, Reader\n",
    "from surprise.model_selection import cross_validate\n",
    "from surprise import accuracy"
   ]
  },
  {
   "cell_type": "code",
   "execution_count": 2,
   "metadata": {},
   "outputs": [
    {
     "name": "stdout",
     "output_type": "stream",
     "text": [
      "Movies Data:\n",
      "   MovieID                               Title                        Genres\n",
      "0        1                    Toy Story (1995)   Animation|Children's|Comedy\n",
      "1        2                      Jumanji (1995)  Adventure|Children's|Fantasy\n",
      "2        3             Grumpier Old Men (1995)                Comedy|Romance\n",
      "3        4            Waiting to Exhale (1995)                  Comedy|Drama\n",
      "4        5  Father of the Bride Part II (1995)                        Comedy\n",
      "\n",
      "Ratings Data:\n",
      "   UserID  MovieID  Rating  Timestamp\n",
      "0       1     1193       5  978300760\n",
      "1       1      661       3  978302109\n",
      "2       1      914       3  978301968\n",
      "3       1     3408       4  978300275\n",
      "4       1     2355       5  978824291\n",
      "\n",
      "Users Data:\n",
      "   UserID Gender  Age  Occupation Zip-code\n",
      "0       1      F    1          10    48067\n",
      "1       2      M   56          16    70072\n",
      "2       3      M   25          15    55117\n",
      "3       4      M   45           7    02460\n",
      "4       5      M   25          20    55455\n"
     ]
    }
   ],
   "source": [
    "# Paths to the files\n",
    "movies_path = 'ml-1m/movies.dat'\n",
    "ratings_path = 'ml-1m/ratings.dat'\n",
    "users_path = 'ml-1m/users.dat'\n",
    "\n",
    "# Reading each file correctly\n",
    "movies = pd.read_csv(movies_path, sep='::', header=None, names=['MovieID', 'Title', 'Genres'], engine='python', encoding='latin1')\n",
    "ratings = pd.read_csv(ratings_path, sep='::', header=None, names=['UserID', 'MovieID', 'Rating', 'Timestamp'], engine='python', encoding='latin1')\n",
    "users = pd.read_csv(users_path, sep='::', header=None, names=['UserID', 'Gender', 'Age', 'Occupation', 'Zip-code'], engine='python', encoding='latin1')\n",
    "\n",
    "# Displaying the first few rows of each dataframe\n",
    "print(\"Movies Data:\")\n",
    "print(movies.head())\n",
    "\n",
    "print(\"\\nRatings Data:\")\n",
    "print(ratings.head())\n",
    "\n",
    "print(\"\\nUsers Data:\")\n",
    "print(users.head())\n"
   ]
  },
  {
   "cell_type": "code",
   "execution_count": 3,
   "metadata": {},
   "outputs": [],
   "source": [
    "users.drop(columns=['Zip-code'], inplace=True)\n",
    "ratings.drop(columns=['Timestamp'], inplace=True)"
   ]
  },
  {
   "cell_type": "code",
   "execution_count": 4,
   "metadata": {},
   "outputs": [
    {
     "name": "stdout",
     "output_type": "stream",
     "text": [
      "   MovieID             Title                       Genres  UserID  Rating  \\\n",
      "0        1  Toy Story (1995)  Animation|Children's|Comedy       1       5   \n",
      "1        1  Toy Story (1995)  Animation|Children's|Comedy       6       4   \n",
      "2        1  Toy Story (1995)  Animation|Children's|Comedy       8       4   \n",
      "3        1  Toy Story (1995)  Animation|Children's|Comedy       9       5   \n",
      "4        1  Toy Story (1995)  Animation|Children's|Comedy      10       5   \n",
      "\n",
      "  Gender  Age  Occupation  \n",
      "0      F    1          10  \n",
      "1      F   50           9  \n",
      "2      M   25          12  \n",
      "3      M   25          17  \n",
      "4      F   35           1  \n",
      "taille :  1000209\n"
     ]
    }
   ],
   "source": [
    "movies_ratings = pd.merge(movies, ratings, on='MovieID')\n",
    "movielens_data = pd.merge(movies_ratings, users, on='UserID')\n",
    "\n",
    "print(movielens_data.head())\n",
    "print(\"taille : \", len(movielens_data))"
   ]
  },
  {
   "cell_type": "code",
   "execution_count": 5,
   "metadata": {},
   "outputs": [
    {
     "name": "stdout",
     "output_type": "stream",
     "text": [
      "basics :\n",
      "      tconst titleType            primaryTitle           originalTitle  \\\n",
      "0  tt0000001     short              Carmencita              Carmencita   \n",
      "1  tt0000002     short  Le clown et ses chiens  Le clown et ses chiens   \n",
      "2  tt0000003     short          Pauvre Pierrot          Pauvre Pierrot   \n",
      "3  tt0000004     short             Un bon bock             Un bon bock   \n",
      "4  tt0000005     short        Blacksmith Scene        Blacksmith Scene   \n",
      "\n",
      "  isAdult startYear endYear runtimeMinutes                    genres  \n",
      "0       0      1894      \\N              1         Documentary,Short  \n",
      "1       0      1892      \\N              5           Animation,Short  \n",
      "2       0      1892      \\N              5  Animation,Comedy,Romance  \n",
      "3       0      1892      \\N             12           Animation,Short  \n",
      "4       0      1893      \\N              1              Comedy,Short  \n",
      "\n",
      "ratings :\n",
      "      tconst  averageRating  numVotes\n",
      "0  tt0000001            5.7      2059\n",
      "1  tt0000002            5.6       278\n",
      "2  tt0000003            6.5      2028\n",
      "3  tt0000004            5.4       179\n",
      "4  tt0000005            6.2      2795\n",
      "\n",
      "crew :\n",
      "      tconst  directors writers\n",
      "0  tt0000001  nm0005690      \\N\n",
      "1  tt0000002  nm0721526      \\N\n",
      "2  tt0000003  nm0721526      \\N\n",
      "3  tt0000004  nm0721526      \\N\n",
      "4  tt0000005  nm0005690      \\N\n"
     ]
    }
   ],
   "source": [
    "imdb_basics =  pd.read_csv('title.basics.tsv', delimiter='\\t', low_memory=False)\n",
    "imdb_ratings = pd.read_csv('title.ratings.tsv', delimiter='\\t', low_memory=False)\n",
    "imdb_crew = pd.read_csv('title.crew.tsv', delimiter='\\t', low_memory=False)\n",
    "\n",
    "print(\"basics :\")\n",
    "print(imdb_basics.head())\n",
    "\n",
    "print(\"\\nratings :\")\n",
    "print(imdb_ratings.head())\n",
    "\n",
    "print(\"\\ncrew :\")\n",
    "print(imdb_crew.head())"
   ]
  },
  {
   "cell_type": "code",
   "execution_count": 6,
   "metadata": {},
   "outputs": [],
   "source": [
    "imdb_basics.drop(columns=['endYear'], inplace=True)\n",
    "imdb_basics.drop(columns=['runtimeMinutes'], inplace=True)\n",
    "imdb_basics.drop(columns=['isAdult'], inplace=True)\n",
    "imdb_ratings.drop(columns=['numVotes'], inplace=True)\n",
    "imdb_crew.drop(columns=['writers'], inplace=True)"
   ]
  },
  {
   "cell_type": "code",
   "execution_count": 7,
   "metadata": {},
   "outputs": [
    {
     "name": "stdout",
     "output_type": "stream",
     "text": [
      "      tconst titleType            primaryTitle           originalTitle  \\\n",
      "0  tt0000001     short              Carmencita              Carmencita   \n",
      "1  tt0000002     short  Le clown et ses chiens  Le clown et ses chiens   \n",
      "2  tt0000003     short          Pauvre Pierrot          Pauvre Pierrot   \n",
      "3  tt0000004     short             Un bon bock             Un bon bock   \n",
      "4  tt0000005     short        Blacksmith Scene        Blacksmith Scene   \n",
      "\n",
      "  startYear                    genres  averageRating  directors  \n",
      "0      1894         Documentary,Short            5.7  nm0005690  \n",
      "1      1892           Animation,Short            5.6  nm0721526  \n",
      "2      1892  Animation,Comedy,Romance            6.5  nm0721526  \n",
      "3      1892           Animation,Short            5.4  nm0721526  \n",
      "4      1893              Comedy,Short            6.2  nm0005690  \n",
      "taille :  1438597\n"
     ]
    }
   ],
   "source": [
    "# Merge basics with ratings and crew data\n",
    "imdb_data = imdb_basics.merge(imdb_ratings, on='tconst').merge(imdb_crew, on='tconst')\n",
    "\n",
    "print(imdb_data.head())\n",
    "print(\"taille : \", len(imdb_data))"
   ]
  },
  {
   "cell_type": "code",
   "execution_count": 8,
   "metadata": {},
   "outputs": [
    {
     "name": "stderr",
     "output_type": "stream",
     "text": [
      "/tmp/ipykernel_1198/1673252961.py:6: FutureWarning: A value is trying to be set on a copy of a DataFrame or Series through chained assignment using an inplace method.\n",
      "The behavior will change in pandas 3.0. This inplace method will never work because the intermediate object on which we are setting values always behaves as a copy.\n",
      "\n",
      "For example, when doing 'df[col].method(value, inplace=True)', try using 'df.method({col: value}, inplace=True)' or df[col] = df[col].method(value) instead, to perform the operation inplace on the original object.\n",
      "\n",
      "\n",
      "  imdb_data['averageRating'].fillna(imdb_data['averageRating'].mean(), inplace=True)\n",
      "/tmp/ipykernel_1198/1673252961.py:16: FutureWarning: A value is trying to be set on a copy of a DataFrame or Series through chained assignment using an inplace method.\n",
      "The behavior will change in pandas 3.0. This inplace method will never work because the intermediate object on which we are setting values always behaves as a copy.\n",
      "\n",
      "For example, when doing 'df[col].method(value, inplace=True)', try using 'df.method({col: value}, inplace=True)' or df[col] = df[col].method(value) instead, to perform the operation inplace on the original object.\n",
      "\n",
      "\n",
      "  imdb_data['startYear'].fillna(0, inplace=True)\n"
     ]
    },
    {
     "name": "stdout",
     "output_type": "stream",
     "text": [
      "   startYear  averageRating                    genres titleType  \\\n",
      "0       1894            5.7         Documentary,Short     short   \n",
      "1       1892            5.6           Animation,Short     short   \n",
      "2       1892            6.5  Animation,Comedy,Romance     short   \n",
      "3       1892            5.4           Animation,Short     short   \n",
      "4       1893            6.2              Comedy,Short     short   \n",
      "\n",
      "             primaryTitle           originalTitle  directors  \n",
      "0              Carmencita              Carmencita  nm0005690  \n",
      "1  Le clown et ses chiens  Le clown et ses chiens  nm0721526  \n",
      "2          Pauvre Pierrot          Pauvre Pierrot  nm0721526  \n",
      "3             Un bon bock             Un bon bock  nm0721526  \n",
      "4        Blacksmith Scene        Blacksmith Scene  nm0005690  \n",
      "tconst            object\n",
      "titleType         object\n",
      "primaryTitle      object\n",
      "originalTitle     object\n",
      "startYear          int64\n",
      "genres            object\n",
      "averageRating    float64\n",
      "directors         object\n",
      "dtype: object\n"
     ]
    }
   ],
   "source": [
    "# Remplacer les valeurs '\\\\N' par NaN pour les colonnes numériques\n",
    "imdb_data['startYear'] = imdb_data['startYear'].replace('\\\\N', np.nan).astype(float)\n",
    "imdb_data['averageRating'] = imdb_data['averageRating'].replace('\\\\N', np.nan).astype(float)\n",
    "\n",
    "# Remplacer les valeurs NaN par la moyenne de la colonne\n",
    "imdb_data['averageRating'].fillna(imdb_data['averageRating'].mean(), inplace=True)\n",
    "\n",
    "# Remplacer les valeurs '\\\\N' par 'Unknown' pour les colonnes catégorielles\n",
    "imdb_data['genres'] = imdb_data['genres'].replace('\\\\N', 'Unknown')\n",
    "imdb_data['titleType'] = imdb_data['titleType'].replace('\\\\N', 'Unknown')\n",
    "imdb_data['primaryTitle'] = imdb_data['primaryTitle'].replace('\\\\N', 'Unknown')\n",
    "imdb_data['originalTitle'] = imdb_data['originalTitle'].replace('\\\\N', 'Unknown')\n",
    "imdb_data['directors'] = imdb_data['directors'].replace('\\\\N', 'Unknown')\n",
    "\n",
    "# Remplir les NaN dans startYear avec une valeur par défaut (par exemple, 0)\n",
    "imdb_data['startYear'].fillna(0, inplace=True)\n",
    "\n",
    "# Convertir la colonne startYear en type int\n",
    "imdb_data['startYear'] = imdb_data['startYear'].astype(int)\n",
    "\n",
    "# Vérifier que les valeurs '\\\\N' ont été remplacées\n",
    "print(imdb_data[['startYear', 'averageRating', 'genres', 'titleType', 'primaryTitle', 'originalTitle', 'directors']].head())\n",
    "\n",
    "# Vérifier les types de données\n",
    "print(imdb_data.dtypes)"
   ]
  },
  {
   "cell_type": "code",
   "execution_count": 9,
   "metadata": {},
   "outputs": [],
   "source": [
    "# Strip and lowercase titles for better matching\n",
    "movielens_data['CleanTitle'] = movielens_data['Title'].str.extract(r'^(.*?) \\(\\d{4}\\)$')[0].str.lower().str.strip()\n",
    "imdb_data['CleanTitle'] = imdb_data['primaryTitle'].str.lower().str.strip()\n",
    "\n",
    "# Convert years to integers for exact matching\n",
    "movielens_data['Year'] = movielens_data['Title'].str.extract(r'\\((\\d{4})\\)')[0].astype(int)\n",
    "imdb_data['Year'] = imdb_data['startYear'].astype(int)"
   ]
  },
  {
   "cell_type": "code",
   "execution_count": 10,
   "metadata": {},
   "outputs": [],
   "source": [
    "merged_data = pd.merge(movielens_data, imdb_data, left_on=['CleanTitle', 'Year'], right_on=['CleanTitle', 'Year'])"
   ]
  },
  {
   "cell_type": "code",
   "execution_count": 11,
   "metadata": {},
   "outputs": [
    {
     "name": "stdout",
     "output_type": "stream",
     "text": [
      "   MovieID             Title                       Genres  UserID  Rating  \\\n",
      "0        1  Toy Story (1995)  Animation|Children's|Comedy       1       5   \n",
      "1        1  Toy Story (1995)  Animation|Children's|Comedy       6       4   \n",
      "2        1  Toy Story (1995)  Animation|Children's|Comedy       8       4   \n",
      "3        1  Toy Story (1995)  Animation|Children's|Comedy       9       5   \n",
      "4        1  Toy Story (1995)  Animation|Children's|Comedy      10       5   \n",
      "\n",
      "  Gender  Age  Occupation CleanTitle  Year titleType  \\\n",
      "0      F    1          10  toy story  1995     movie   \n",
      "1      F   50           9  toy story  1995     movie   \n",
      "2      M   25          12  toy story  1995     movie   \n",
      "3      M   25          17  toy story  1995     movie   \n",
      "4      F   35           1  toy story  1995     movie   \n",
      "\n",
      "                       genres  directors  CompositeRating  \n",
      "0  Adventure,Animation,Comedy  nm0005124             9.15  \n",
      "1  Adventure,Animation,Comedy  nm0005124             8.15  \n",
      "2  Adventure,Animation,Comedy  nm0005124             8.15  \n",
      "3  Adventure,Animation,Comedy  nm0005124             9.15  \n",
      "4  Adventure,Animation,Comedy  nm0005124             9.15  \n",
      "taille :  805610\n"
     ]
    }
   ],
   "source": [
    "merged_data['ScaledRating'] = merged_data['Rating'] * 2  # Scaling MovieLens ratings from 1-5 to 1-10\n",
    "merged_data['CompositeRating'] = (merged_data['ScaledRating'] + merged_data['averageRating']) / 2\n",
    "\n",
    "merged_data.drop(columns=['tconst', 'primaryTitle', 'originalTitle', 'startYear'], inplace=True)\n",
    "merged_data.drop(columns=['averageRating', 'ScaledRating'], inplace=True)\n",
    "print(merged_data.head())\n",
    "print(\"taille : \", len(merged_data))"
   ]
  },
  {
   "cell_type": "code",
   "execution_count": 12,
   "metadata": {},
   "outputs": [],
   "source": [
    "merged_data.drop(['Title', 'Genres'], axis=1, inplace=True)"
   ]
  },
  {
   "cell_type": "code",
   "execution_count": 13,
   "metadata": {},
   "outputs": [
    {
     "name": "stdout",
     "output_type": "stream",
     "text": [
      "   MovieID  UserID  Rating Gender  Age  Occupation CleanTitle  Year titleType  \\\n",
      "0        1       1       5      F    1          10  toy story  1995     movie   \n",
      "1        1       6       4      F   50           9  toy story  1995     movie   \n",
      "2        1       8       4      M   25          12  toy story  1995     movie   \n",
      "3        1       9       5      M   25          17  toy story  1995     movie   \n",
      "4        1      10       5      F   35           1  toy story  1995     movie   \n",
      "\n",
      "                       genres  directors  CompositeRating  \n",
      "0  Adventure,Animation,Comedy  nm0005124             9.15  \n",
      "1  Adventure,Animation,Comedy  nm0005124             8.15  \n",
      "2  Adventure,Animation,Comedy  nm0005124             8.15  \n",
      "3  Adventure,Animation,Comedy  nm0005124             9.15  \n",
      "4  Adventure,Animation,Comedy  nm0005124             9.15  \n",
      "taille :  805610\n"
     ]
    }
   ],
   "source": [
    "print(merged_data.head())\n",
    "print(\"taille : \", len(merged_data))"
   ]
  },
  {
   "cell_type": "code",
   "execution_count": 14,
   "metadata": {},
   "outputs": [],
   "source": [
    "# Encodage des genres\n",
    "mlb_genres = MultiLabelBinarizer()\n",
    "genres_encoded = mlb_genres.fit_transform(merged_data['genres'].str.split(','))\n",
    "genres_df = pd.DataFrame(genres_encoded, columns=mlb_genres.classes_, index=merged_data.index)\n",
    "\n",
    "# Encodage de l'âge\n",
    "age_bins = [0, 18, 25, 35, 45, 50, 56, np.inf]\n",
    "age_labels = ['0-18', '18-25', '25-35', '35-45', '45-50', '50-56', '56+']\n",
    "merged_data['age_group'] = pd.cut(merged_data['Age'], bins=age_bins, labels=age_labels)\n",
    "age_dummies = pd.get_dummies(merged_data['age_group'], prefix='age')\n",
    "\n",
    "# Encodage du genre\n",
    "gender_dummies = pd.get_dummies(merged_data['Gender'], prefix='gender')\n",
    "\n",
    "# Concaténation des nouvelles colonnes encodées avec les données d'origine\n",
    "merged_data = pd.concat([merged_data, genres_df, age_dummies, gender_dummies], axis=1)\n",
    "\n",
    "# Supprimer les colonnes originales non numériques\n",
    "merged_data.drop(columns=['genres', 'age_group', 'Gender'], inplace=True)"
   ]
  },
  {
   "cell_type": "code",
   "execution_count": 15,
   "metadata": {},
   "outputs": [
    {
     "name": "stdout",
     "output_type": "stream",
     "text": [
      "directors\n",
      "Unknown      49477\n",
      "nm0000229    19388\n",
      "nm0000709    10612\n",
      "nm0000318     9358\n",
      "nm0000631     8454\n",
      "             ...  \n",
      "nm0401680        1\n",
      "nm0136592        1\n",
      "nm0237876        1\n",
      "nm0362734        1\n",
      "nm0748218        1\n",
      "Name: count, Length: 1637, dtype: int64\n"
     ]
    }
   ],
   "source": [
    "# Compter le nombre de films par réalisateur\n",
    "director_counts = merged_data['directors'].str.split(',').explode().value_counts()\n",
    "\n",
    "print(director_counts)"
   ]
  },
  {
   "cell_type": "code",
   "execution_count": 16,
   "metadata": {},
   "outputs": [
    {
     "name": "stdout",
     "output_type": "stream",
     "text": [
      "   MovieID  UserID  Rating  Age  Occupation CleanTitle  Year titleType  \\\n",
      "0        1       1       5    1          10  toy story  1995     movie   \n",
      "1        1       6       4   50           9  toy story  1995     movie   \n",
      "2        1       8       4   25          12  toy story  1995     movie   \n",
      "3        1       9       5   25          17  toy story  1995     movie   \n",
      "4        1      10       5   35           1  toy story  1995     movie   \n",
      "\n",
      "   CompositeRating  Action  ...  nm0718645  nm0730860  nm0769874  nm0789313  \\\n",
      "0             9.15       0  ...          0          0          0          0   \n",
      "1             8.15       0  ...          0          0          0          0   \n",
      "2             8.15       0  ...          0          0          0          0   \n",
      "3             9.15       0  ...          0          0          0          0   \n",
      "4             9.15       0  ...          0          0          0          0   \n",
      "\n",
      "   nm0829038  nm0958387  nm1140114  nm1370868  nm2091571  nm2091671  \n",
      "0          0          0          0          0          0          0  \n",
      "1          0          0          0          0          0          0  \n",
      "2          0          0          0          0          0          0  \n",
      "3          0          0          0          0          0          0  \n",
      "4          0          0          0          0          0          0  \n",
      "\n",
      "[5 rows x 146 columns]\n"
     ]
    }
   ],
   "source": [
    "# Sélectionner les réalisateurs les plus fréquents\n",
    "top_directors = director_counts[(director_counts.index != 'Unknown')].nlargest(100).index\n",
    "\n",
    "# Filtrer les données pour ne conserver que les réalisateurs fréquents\n",
    "filtered_directors = merged_data['directors'].apply(lambda x: ','.join([d for d in x.split(',') if d in top_directors]))\n",
    "\n",
    "# Encoder les réalisateurs filtrés\n",
    "mlb_directors = MultiLabelBinarizer()\n",
    "directors_encoded = mlb_directors.fit_transform(filtered_directors.str.split(','))\n",
    "directors_df = pd.DataFrame(directors_encoded, columns=mlb_directors.classes_, index=merged_data.index)\n",
    "\n",
    "# Concaténer les nouvelles colonnes encodées avec les données d'origine\n",
    "merged_data = pd.concat([merged_data, directors_df], axis=1)\n",
    "\n",
    "# Supprimer les colonnes originales non numériques\n",
    "merged_data.drop(columns=['directors'], inplace=True)\n",
    "\n",
    "\n",
    "print(merged_data.head())"
   ]
  },
  {
   "cell_type": "code",
   "execution_count": 17,
   "metadata": {},
   "outputs": [],
   "source": [
    "user_item = merged_data.pivot_table(index='UserID', columns='CleanTitle', values='CompositeRating')"
   ]
  },
  {
   "cell_type": "code",
   "execution_count": 18,
   "metadata": {},
   "outputs": [
    {
     "name": "stdout",
     "output_type": "stream",
     "text": [
      "Size of user_item matrix:  (6040, 2341)\n"
     ]
    }
   ],
   "source": [
    "print(\"Size of user_item matrix: \", user_item.shape)"
   ]
  },
  {
   "cell_type": "code",
   "execution_count": 19,
   "metadata": {},
   "outputs": [
    {
     "name": "stdout",
     "output_type": "stream",
     "text": [
      "Size of user_item matrix: \n",
      " CleanTitle  'til there was you  1-900  10 things i hate about you  \\\n",
      "UserID                                                              \n",
      "1                     5.092308    5.6                    7.072857   \n",
      "2                     5.092308    5.6                    7.072857   \n",
      "3                     5.092308    5.6                    7.072857   \n",
      "4                     5.092308    5.6                    7.072857   \n",
      "5                     5.092308    5.6                    7.072857   \n",
      "\n",
      "CleanTitle  101 dalmatians  12 angry men  2 days in the valley  20 dates  \\\n",
      "UserID                                                                     \n",
      "1                 5.896703      8.795455              6.533217  5.656115   \n",
      "2                 5.896703      8.795455              6.533217  5.656115   \n",
      "3                 5.896703      8.795455              6.533217  5.656115   \n",
      "4                 5.896703      8.795455              6.533217  5.656115   \n",
      "5                 5.896703      8.795455              6.533217  5.656115   \n",
      "\n",
      "CleanTitle  20,000 leagues under the sea  200 cigarettes  \\\n",
      "UserID                                                     \n",
      "1                               7.302609        5.883978   \n",
      "2                               7.302609        5.883978   \n",
      "3                               7.302609        5.883978   \n",
      "4                               7.302609        5.883978   \n",
      "5                               7.302609        5.883978   \n",
      "\n",
      "CleanTitle  2001: a space odyssey  ...  young and innocent  \\\n",
      "UserID                             ...                       \n",
      "1                        8.218765  ...                 6.7   \n",
      "2                        8.218765  ...                 6.7   \n",
      "3                        8.218765  ...                 6.7   \n",
      "4                        8.218765  ...                 6.7   \n",
      "5                        8.218765  ...                 6.7   \n",
      "\n",
      "CleanTitle  young doctors in love  young frankenstein  young guns  \\\n",
      "UserID                                                              \n",
      "1                        5.357595            8.250629    6.818149   \n",
      "2                        5.357595            8.250629    6.818149   \n",
      "3                        5.357595            8.250629    8.400000   \n",
      "4                        5.357595            8.250629    6.818149   \n",
      "5                        5.357595            8.250629    6.818149   \n",
      "\n",
      "CleanTitle  young guns ii  young sherlock holmes  your friends and neighbors  \\\n",
      "UserID                                                                         \n",
      "1                6.157859               6.790501                    6.526147   \n",
      "2                6.157859               6.790501                    6.526147   \n",
      "3                7.250000               6.790501                    6.526147   \n",
      "4                6.157859               6.790501                    6.526147   \n",
      "5                6.157859               6.790501                    6.526147   \n",
      "\n",
      "CleanTitle  zachariah  zero effect  zeus and roxanne  \n",
      "UserID                                                \n",
      "1                 6.4     7.200831          5.171739  \n",
      "2                 6.4     7.200831          5.171739  \n",
      "3                 6.4     7.200831          5.171739  \n",
      "4                 6.4     7.200831          5.171739  \n",
      "5                 6.4     7.200831          5.171739  \n",
      "\n",
      "[5 rows x 2341 columns]\n"
     ]
    }
   ],
   "source": [
    "user_item_filled = user_item.apply(lambda x: x.fillna(x.mean()), axis=0)\n",
    "\n",
    "global_mean = user_item_filled.stack().mean() \n",
    "user_item_filled = user_item_filled.fillna(global_mean)\n",
    "\n",
    "print(\"Size of user_item matrix: \\n\", user_item_filled.head())"
   ]
  },
  {
   "cell_type": "markdown",
   "metadata": {},
   "source": [
    "## Préparer les données"
   ]
  },
  {
   "cell_type": "code",
   "execution_count": 20,
   "metadata": {},
   "outputs": [],
   "source": [
    "train_data, test_data = train_test_split(merged_data, test_size=0.2, random_state=42)"
   ]
  },
  {
   "cell_type": "markdown",
   "metadata": {},
   "source": [
    "## Implémenter la factorisation matricielle"
   ]
  },
  {
   "cell_type": "code",
   "execution_count": 21,
   "metadata": {},
   "outputs": [
    {
     "name": "stdout",
     "output_type": "stream",
     "text": [
      "Evaluating RMSE, MAE of algorithm SVD on 5 split(s).\n",
      "\n",
      "                  Fold 1  Fold 2  Fold 3  Fold 4  Fold 5  Mean    Std     \n",
      "RMSE (testset)    0.8743  0.8748  0.8744  0.8777  0.8758  0.8754  0.0013  \n",
      "MAE (testset)     0.6880  0.6885  0.6881  0.6908  0.6886  0.6888  0.0010  \n",
      "Fit time          13.59   13.62   13.72   13.58   13.31   13.56   0.14    \n",
      "Test time         2.19    1.90    2.36    2.01    2.09    2.11    0.16    \n"
     ]
    },
    {
     "data": {
      "text/plain": [
       "{'test_rmse': array([0.87434882, 0.87477695, 0.87442952, 0.87773674, 0.8758044 ]),\n",
       " 'test_mae': array([0.68796793, 0.68853385, 0.68814072, 0.69081066, 0.68863106]),\n",
       " 'fit_time': (13.589710712432861,\n",
       "  13.619638919830322,\n",
       "  13.715280055999756,\n",
       "  13.583953857421875,\n",
       "  13.305901288986206),\n",
       " 'test_time': (2.190181016921997,\n",
       "  1.8971152305603027,\n",
       "  2.356628656387329,\n",
       "  2.006834030151367,\n",
       "  2.0850071907043457)}"
      ]
     },
     "execution_count": 21,
     "metadata": {},
     "output_type": "execute_result"
    }
   ],
   "source": [
    "reader = Reader(rating_scale=(1, 10))\n",
    "data = Dataset.load_from_df(train_data[['UserID', 'MovieID', 'CompositeRating']], reader)\n",
    "algo = SVD()\n",
    "\n",
    "# Entraînement et évaluation par validation croisée\n",
    "cross_validate(algo, data, measures=['RMSE', 'MAE'], cv=5, verbose=True)"
   ]
  },
  {
   "cell_type": "markdown",
   "metadata": {},
   "source": [
    "## Entraîner et évaluer le modèle"
   ]
  },
  {
   "cell_type": "code",
   "execution_count": 22,
   "metadata": {},
   "outputs": [
    {
     "name": "stdout",
     "output_type": "stream",
     "text": [
      "RMSE: 0.8835\n",
      "Le RMSE sur le jeu de test est de: 0.8835177360317061\n"
     ]
    }
   ],
   "source": [
    "from surprise.model_selection import train_test_split\n",
    "\n",
    "# Utilise la fonction train_test_split de surprise\n",
    "trainset, testset = train_test_split(data, test_size=0.25)\n",
    "algo.fit(trainset)\n",
    "predictions = algo.test(testset)\n",
    "\n",
    "# Calculer et afficher le RMSE\n",
    "rmse = accuracy.rmse(predictions)\n",
    "print(f'Le RMSE sur le jeu de test est de: {rmse}')"
   ]
  },
  {
   "cell_type": "markdown",
   "metadata": {},
   "source": [
    "## Définir la logique de score de couple"
   ]
  },
  {
   "cell_type": "code",
   "execution_count": 23,
   "metadata": {},
   "outputs": [],
   "source": [
    "def couple_score(user1, user2, movie_id):\n",
    "    # Prédire la note pour chaque utilisateur\n",
    "    score1 = algo.predict(user1, movie_id).est\n",
    "    score2 = algo.predict(user2, movie_id).est\n",
    "    # Retourner la moyenne des scores\n",
    "    return (score1 + score2) / 2"
   ]
  },
  {
   "cell_type": "markdown",
   "metadata": {},
   "source": [
    "## Recommander des films pour le couple"
   ]
  },
  {
   "cell_type": "code",
   "execution_count": 25,
   "metadata": {},
   "outputs": [
    {
     "name": "stdout",
     "output_type": "stream",
     "text": [
      "('schindler's list', 9.067167848333423)\n",
      "('saving private ryan', 8.823267187243253)\n",
      "('forrest gump', 8.810521403984247)\n",
      "('pulp fiction', 8.776276909429079)\n",
      "('12 angry men', 8.773918577659817)\n",
      "('star wars: episode iv - a new hope', 8.732260468432248)\n",
      "('alien', 8.69332407958769)\n",
      "('one flew over the cuckoo's nest', 8.691336743716338)\n",
      "('it's a wonderful life', 8.68878567835656)\n",
      "('jean de florette', 8.659040671652905)\n"
     ]
    }
   ],
   "source": [
    "def recommend_for_couple(user1, user2, merged_data):\n",
    "    # Extraire les ID de tous les films uniques dans les données\n",
    "    movies = set(merged_data['MovieID'])\n",
    "    scores = []\n",
    "    for movie in movies:\n",
    "        # Calculer le score de couple pour chaque film\n",
    "        score = couple_score(user1, user2, movie)\n",
    "        # Obtenir le titre du film à partir du DataFrame des titres\n",
    "        title = merged_data[merged_data['MovieID'] == movie]['CleanTitle'].values[0]\n",
    "        scores.append((title, score))\n",
    "    # Trier les films par score décroissant\n",
    "    scores.sort(key=lambda x: x[1], reverse=True)\n",
    "    # Retourner les 10 meilleurs films recommandés\n",
    "    return scores[:10]\n",
    "\n",
    "recommended_movies = recommend_for_couple(1, 2, merged_data)\n",
    "\n",
    "for title, score in recommended_movies:\n",
    "    print(f\"('{title}', {score})\")\n"
   ]
  }
 ],
 "metadata": {
  "kernelspec": {
   "display_name": "Python 3",
   "language": "python",
   "name": "python3"
  },
  "language_info": {
   "codemirror_mode": {
    "name": "ipython",
    "version": 3
   },
   "file_extension": ".py",
   "mimetype": "text/x-python",
   "name": "python",
   "nbconvert_exporter": "python",
   "pygments_lexer": "ipython3",
   "version": "3.10.5"
  }
 },
 "nbformat": 4,
 "nbformat_minor": 2
}
