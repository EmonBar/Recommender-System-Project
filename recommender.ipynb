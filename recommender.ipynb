{
 "cells": [
  {
   "cell_type": "markdown",
   "metadata": {},
   "source": [
    "# Recommender Project"
   ]
  },
  {
   "cell_type": "markdown",
   "metadata": {},
   "source": [
    "## Project Overview\n",
    "This project develops a movie pairing recommender system that suggests films based on complementary genres, themes, or viewer preferences. It integrates data from MovieLens and IMDb to provide recommendations."
   ]
  },
  {
   "cell_type": "markdown",
   "metadata": {},
   "source": [
    "## Import Librairies"
   ]
  },
  {
   "cell_type": "code",
   "execution_count": 1,
   "metadata": {},
   "outputs": [],
   "source": [
    "import pandas as pd\n",
    "import numpy as np\n",
    "from sklearn.preprocessing import MultiLabelBinarizer\n",
    "from sklearn.model_selection import train_test_split\n",
    "from surprise import SVD, Dataset, Reader\n",
    "from surprise.model_selection import cross_validate\n",
    "from surprise import accuracy"
   ]
  },
  {
   "cell_type": "markdown",
   "metadata": {},
   "source": [
    "## Get Movielens Datas"
   ]
  },
  {
   "cell_type": "code",
   "execution_count": 2,
   "metadata": {},
   "outputs": [
    {
     "name": "stdout",
     "output_type": "stream",
     "text": [
      "Movies Data:\n",
      "   MovieID                               Title                        Genres\n",
      "0        1                    Toy Story (1995)   Animation|Children's|Comedy\n",
      "1        2                      Jumanji (1995)  Adventure|Children's|Fantasy\n",
      "2        3             Grumpier Old Men (1995)                Comedy|Romance\n",
      "3        4            Waiting to Exhale (1995)                  Comedy|Drama\n",
      "4        5  Father of the Bride Part II (1995)                        Comedy\n",
      "\n",
      "Ratings Data:\n",
      "   UserID  MovieID  Rating  Timestamp\n",
      "0       1     1193       5  978300760\n",
      "1       1      661       3  978302109\n",
      "2       1      914       3  978301968\n",
      "3       1     3408       4  978300275\n",
      "4       1     2355       5  978824291\n",
      "\n",
      "Users Data:\n",
      "   UserID Gender  Age  Occupation Zip-code\n",
      "0       1      F    1          10    48067\n",
      "1       2      M   56          16    70072\n",
      "2       3      M   25          15    55117\n",
      "3       4      M   45           7    02460\n",
      "4       5      M   25          20    55455\n"
     ]
    }
   ],
   "source": [
    "# Paths to the files\n",
    "movies_path = 'ml-1m/movies.dat'\n",
    "ratings_path = 'ml-1m/ratings.dat'\n",
    "users_path = 'ml-1m/users.dat'\n",
    "\n",
    "movies = pd.read_csv(movies_path, sep='::', header=None, names=['MovieID', 'Title', 'Genres'], engine='python', encoding='latin1')\n",
    "ratings = pd.read_csv(ratings_path, sep='::', header=None, names=['UserID', 'MovieID', 'Rating', 'Timestamp'], engine='python', encoding='latin1')\n",
    "users = pd.read_csv(users_path, sep='::', header=None, names=['UserID', 'Gender', 'Age', 'Occupation', 'Zip-code'], engine='python', encoding='latin1')\n",
    "\n",
    "print(\"Movies Data:\")\n",
    "print(movies.head())\n",
    "\n",
    "print(\"\\nRatings Data:\")\n",
    "print(ratings.head())\n",
    "\n",
    "print(\"\\nUsers Data:\")\n",
    "print(users.head())"
   ]
  },
  {
   "cell_type": "markdown",
   "metadata": {},
   "source": [
    "### Drop unnecessary columns"
   ]
  },
  {
   "cell_type": "code",
   "execution_count": 3,
   "metadata": {},
   "outputs": [],
   "source": [
    "users.drop(columns=['Zip-code'], inplace=True)\n",
    "users.drop(columns=['Occupation'], inplace=True)\n",
    "ratings.drop(columns=['Timestamp'], inplace=True)"
   ]
  },
  {
   "cell_type": "markdown",
   "metadata": {},
   "source": [
    "### Merge the datas"
   ]
  },
  {
   "cell_type": "code",
   "execution_count": 4,
   "metadata": {},
   "outputs": [
    {
     "name": "stdout",
     "output_type": "stream",
     "text": [
      "   MovieID             Title                       Genres  UserID  Rating  \\\n",
      "0        1  Toy Story (1995)  Animation|Children's|Comedy       1       5   \n",
      "1        1  Toy Story (1995)  Animation|Children's|Comedy       6       4   \n",
      "2        1  Toy Story (1995)  Animation|Children's|Comedy       8       4   \n",
      "3        1  Toy Story (1995)  Animation|Children's|Comedy       9       5   \n",
      "4        1  Toy Story (1995)  Animation|Children's|Comedy      10       5   \n",
      "\n",
      "  Gender  Age  \n",
      "0      F    1  \n",
      "1      F   50  \n",
      "2      M   25  \n",
      "3      M   25  \n",
      "4      F   35  \n",
      "\n",
      "length of the dataframe :  1000209\n"
     ]
    }
   ],
   "source": [
    "movies_ratings = pd.merge(movies, ratings, on='MovieID')\n",
    "movielens_data = pd.merge(movies_ratings, users, on='UserID')\n",
    "\n",
    "print(movielens_data.head())\n",
    "print(\"\\nlength of the dataframe : \", len(movielens_data))"
   ]
  },
  {
   "cell_type": "markdown",
   "metadata": {},
   "source": [
    "## Get IMDB datas"
   ]
  },
  {
   "cell_type": "code",
   "execution_count": 5,
   "metadata": {},
   "outputs": [
    {
     "name": "stdout",
     "output_type": "stream",
     "text": [
      "basics :\n",
      "      tconst titleType            primaryTitle           originalTitle  \\\n",
      "0  tt0000001     short              Carmencita              Carmencita   \n",
      "1  tt0000002     short  Le clown et ses chiens  Le clown et ses chiens   \n",
      "2  tt0000003     short          Pauvre Pierrot          Pauvre Pierrot   \n",
      "3  tt0000004     short             Un bon bock             Un bon bock   \n",
      "4  tt0000005     short        Blacksmith Scene        Blacksmith Scene   \n",
      "\n",
      "  isAdult startYear endYear runtimeMinutes                    genres  \n",
      "0       0      1894      \\N              1         Documentary,Short  \n",
      "1       0      1892      \\N              5           Animation,Short  \n",
      "2       0      1892      \\N              5  Animation,Comedy,Romance  \n",
      "3       0      1892      \\N             12           Animation,Short  \n",
      "4       0      1893      \\N              1              Comedy,Short  \n",
      "\n",
      "ratings :\n",
      "      tconst  averageRating  numVotes\n",
      "0  tt0000001            5.7      2059\n",
      "1  tt0000002            5.6       278\n",
      "2  tt0000003            6.5      2028\n",
      "3  tt0000004            5.4       179\n",
      "4  tt0000005            6.2      2795\n"
     ]
    }
   ],
   "source": [
    "imdb_basics =  pd.read_csv('title.basics.tsv', delimiter='\\t', low_memory=False)\n",
    "imdb_ratings = pd.read_csv('title.ratings.tsv', delimiter='\\t', low_memory=False)\n",
    "\n",
    "print(\"basics :\")\n",
    "print(imdb_basics.head())\n",
    "\n",
    "print(\"\\nratings :\")\n",
    "print(imdb_ratings.head())"
   ]
  },
  {
   "cell_type": "markdown",
   "metadata": {},
   "source": [
    "### Drop unnecessary columns"
   ]
  },
  {
   "cell_type": "code",
   "execution_count": 6,
   "metadata": {},
   "outputs": [],
   "source": [
    "imdb_basics.drop(columns=['endYear'], inplace=True)\n",
    "imdb_basics.drop(columns=['runtimeMinutes'], inplace=True)\n",
    "imdb_basics.drop(columns=['isAdult'], inplace=True)\n",
    "imdb_ratings.drop(columns=['numVotes'], inplace=True)"
   ]
  },
  {
   "cell_type": "markdown",
   "metadata": {},
   "source": [
    "### Merge the datas"
   ]
  },
  {
   "cell_type": "code",
   "execution_count": 7,
   "metadata": {},
   "outputs": [
    {
     "name": "stdout",
     "output_type": "stream",
     "text": [
      "      tconst titleType            primaryTitle           originalTitle  \\\n",
      "0  tt0000001     short              Carmencita              Carmencita   \n",
      "1  tt0000002     short  Le clown et ses chiens  Le clown et ses chiens   \n",
      "2  tt0000003     short          Pauvre Pierrot          Pauvre Pierrot   \n",
      "3  tt0000004     short             Un bon bock             Un bon bock   \n",
      "4  tt0000005     short        Blacksmith Scene        Blacksmith Scene   \n",
      "\n",
      "  startYear                    genres  averageRating  \n",
      "0      1894         Documentary,Short            5.7  \n",
      "1      1892           Animation,Short            5.6  \n",
      "2      1892  Animation,Comedy,Romance            6.5  \n",
      "3      1892           Animation,Short            5.4  \n",
      "4      1893              Comedy,Short            6.2  \n",
      "\n",
      "length of the dataframe :  1451832\n"
     ]
    }
   ],
   "source": [
    "imdb_data = imdb_basics.merge(imdb_ratings, on='tconst')\n",
    "\n",
    "print(imdb_data.head())\n",
    "print(\"\\nlength of the dataframe : \", len(imdb_data))"
   ]
  },
  {
   "cell_type": "markdown",
   "metadata": {},
   "source": [
    "## Preprocessing"
   ]
  },
  {
   "cell_type": "markdown",
   "metadata": {},
   "source": [
    "### Data Cleaning and Preparation"
   ]
  },
  {
   "cell_type": "code",
   "execution_count": 8,
   "metadata": {},
   "outputs": [
    {
     "name": "stderr",
     "output_type": "stream",
     "text": [
      "/tmp/ipykernel_22626/3388201512.py:6: FutureWarning: A value is trying to be set on a copy of a DataFrame or Series through chained assignment using an inplace method.\n",
      "The behavior will change in pandas 3.0. This inplace method will never work because the intermediate object on which we are setting values always behaves as a copy.\n",
      "\n",
      "For example, when doing 'df[col].method(value, inplace=True)', try using 'df.method({col: value}, inplace=True)' or df[col] = df[col].method(value) instead, to perform the operation inplace on the original object.\n",
      "\n",
      "\n",
      "  imdb_data['averageRating'].fillna(imdb_data['averageRating'].mean(), inplace=True)\n",
      "/tmp/ipykernel_22626/3388201512.py:15: FutureWarning: A value is trying to be set on a copy of a DataFrame or Series through chained assignment using an inplace method.\n",
      "The behavior will change in pandas 3.0. This inplace method will never work because the intermediate object on which we are setting values always behaves as a copy.\n",
      "\n",
      "For example, when doing 'df[col].method(value, inplace=True)', try using 'df.method({col: value}, inplace=True)' or df[col] = df[col].method(value) instead, to perform the operation inplace on the original object.\n",
      "\n",
      "\n",
      "  imdb_data['startYear'].fillna(0, inplace=True)\n"
     ]
    },
    {
     "name": "stdout",
     "output_type": "stream",
     "text": [
      "   startYear  averageRating                    genres titleType  \\\n",
      "0       1894            5.7         Documentary,Short     short   \n",
      "1       1892            5.6           Animation,Short     short   \n",
      "2       1892            6.5  Animation,Comedy,Romance     short   \n",
      "3       1892            5.4           Animation,Short     short   \n",
      "4       1893            6.2              Comedy,Short     short   \n",
      "\n",
      "             primaryTitle           originalTitle  \n",
      "0              Carmencita              Carmencita  \n",
      "1  Le clown et ses chiens  Le clown et ses chiens  \n",
      "2          Pauvre Pierrot          Pauvre Pierrot  \n",
      "3             Un bon bock             Un bon bock  \n",
      "4        Blacksmith Scene        Blacksmith Scene  \n",
      "tconst            object\n",
      "titleType         object\n",
      "primaryTitle      object\n",
      "originalTitle     object\n",
      "startYear          int64\n",
      "genres            object\n",
      "averageRating    float64\n",
      "dtype: object\n"
     ]
    }
   ],
   "source": [
    "# Replace '\\\\N' values with NaN for numeric columns\n",
    "imdb_data['startYear'] = imdb_data['startYear'].replace('\\\\N', np.nan).astype(float)\n",
    "imdb_data['averageRating'] = imdb_data['averageRating'].replace('\\\\N', np.nan).astype(float)\n",
    "\n",
    "# Replace NaN values with the mean of the column for 'averageRating'\n",
    "imdb_data['averageRating'].fillna(imdb_data['averageRating'].mean(), inplace=True)\n",
    "\n",
    "# Replace '\\\\N' values with 'Unknown' for categorical columns\n",
    "imdb_data['genres'] = imdb_data['genres'].replace('\\\\N', 'Unknown')\n",
    "imdb_data['titleType'] = imdb_data['titleType'].replace('\\\\N', 'Unknown')\n",
    "imdb_data['primaryTitle'] = imdb_data['primaryTitle'].replace('\\\\N', 'Unknown')\n",
    "imdb_data['originalTitle'] = imdb_data['originalTitle'].replace('\\\\N', 'Unknown')\n",
    "\n",
    "# Fill NaNs in 'startYear' with a default value (e.g., 0)\n",
    "imdb_data['startYear'].fillna(0, inplace=True)\n",
    "\n",
    "# Convert the 'startYear' column to an integer data type\n",
    "imdb_data['startYear'] = imdb_data['startYear'].astype(int)\n",
    "\n",
    "# Print a sample of the data to verify that replacements were made successfully\n",
    "print(imdb_data[['startYear', 'averageRating', 'genres', 'titleType', 'primaryTitle', 'originalTitle']].head())\n",
    "\n",
    "# Print the data types of the columns to ensure they are correct for analysis\n",
    "print(imdb_data.dtypes)"
   ]
  },
  {
   "cell_type": "markdown",
   "metadata": {},
   "source": [
    "### Create Clean Title and Year"
   ]
  },
  {
   "cell_type": "code",
   "execution_count": 9,
   "metadata": {},
   "outputs": [],
   "source": [
    "# Strip and lowercase titles for better matching\n",
    "movielens_data['CleanTitle'] = movielens_data['Title'].str.extract(r'^(.*?) \\(\\d{4}\\)$')[0].str.lower().str.strip()\n",
    "imdb_data['CleanTitle'] = imdb_data['primaryTitle'].str.lower().str.strip()\n",
    "\n",
    "# Convert years to integers for exact matching\n",
    "movielens_data['Year'] = movielens_data['Title'].str.extract(r'\\((\\d{4})\\)')[0].astype(int)\n",
    "imdb_data['Year'] = imdb_data['startYear'].astype(int)"
   ]
  },
  {
   "cell_type": "markdown",
   "metadata": {},
   "source": [
    "### Fuse MovieLens Dataset and Imdb Dataset"
   ]
  },
  {
   "cell_type": "code",
   "execution_count": 10,
   "metadata": {},
   "outputs": [],
   "source": [
    "merged_data = pd.merge(movielens_data, imdb_data, left_on=['CleanTitle', 'Year'], right_on=['CleanTitle', 'Year'])"
   ]
  },
  {
   "cell_type": "markdown",
   "metadata": {},
   "source": [
    "### Data Cleanup and Rating Normalization"
   ]
  },
  {
   "cell_type": "code",
   "execution_count": 11,
   "metadata": {},
   "outputs": [
    {
     "name": "stdout",
     "output_type": "stream",
     "text": [
      "   MovieID  UserID Gender  Age CleanTitle  Year titleType  \\\n",
      "0        1       1      F    1  toy story  1995     movie   \n",
      "1        1       6      F   50  toy story  1995     movie   \n",
      "2        1       8      M   25  toy story  1995     movie   \n",
      "3        1       9      M   25  toy story  1995     movie   \n",
      "4        1      10      F   35  toy story  1995     movie   \n",
      "\n",
      "                       genres  CompositeRating  \n",
      "0  Adventure,Animation,Comedy             9.15  \n",
      "1  Adventure,Animation,Comedy             8.15  \n",
      "2  Adventure,Animation,Comedy             8.15  \n",
      "3  Adventure,Animation,Comedy             9.15  \n",
      "4  Adventure,Animation,Comedy             9.15  \n",
      "\n",
      "length of the dataframe:  805610\n"
     ]
    }
   ],
   "source": [
    "# Scaling MovieLens ratings from 1-5 to 1-10\n",
    "merged_data['ScaledRating'] = merged_data['Rating'] * 2\n",
    "merged_data['CompositeRating'] = (merged_data['ScaledRating'] + merged_data['averageRating']) / 2\n",
    "\n",
    "merged_data.drop(columns=['tconst', 'primaryTitle', 'originalTitle', 'startYear', 'Title', 'Genres'], inplace=True)\n",
    "merged_data.drop(columns=['averageRating', 'ScaledRating', 'Rating'], inplace=True)\n",
    "\n",
    "print(merged_data.head())\n",
    "print(\"\\nlength of the dataframe: \", len(merged_data))"
   ]
  },
  {
   "cell_type": "markdown",
   "metadata": {},
   "source": [
    "## Feature Engineering"
   ]
  },
  {
   "cell_type": "code",
   "execution_count": 12,
   "metadata": {},
   "outputs": [],
   "source": [
    "# Encoding genres\n",
    "mlb_genres = MultiLabelBinarizer()\n",
    "genres_encoded = mlb_genres.fit_transform(merged_data['genres'].str.split(','))\n",
    "genres_df = pd.DataFrame(genres_encoded, columns=mlb_genres.classes_, index=merged_data.index)\n",
    "\n",
    "# Encoding age\n",
    "age_bins = [0, 18, 25, 35, 45, 50, 56, np.inf]\n",
    "age_labels = ['0-18', '18-25', '25-35', '35-45', '45-50', '50-56', '56+']\n",
    "merged_data['age_group'] = pd.cut(merged_data['Age'], bins=age_bins, labels=age_labels)\n",
    "age_dummies = pd.get_dummies(merged_data['age_group'], prefix='age')\n",
    "\n",
    "# Encoding gender\n",
    "gender_dummies = pd.get_dummies(merged_data['Gender'], prefix='gender')\n",
    "\n",
    "# Concatenating new encoded columns with original data\n",
    "merged_data = pd.concat([merged_data, genres_df, age_dummies, gender_dummies], axis=1)\n",
    "\n",
    "# Dropping original categorical columns that are now redundant\n",
    "merged_data.drop(columns=['genres', 'age_group', 'Gender'], inplace=True)"
   ]
  },
  {
   "cell_type": "code",
   "execution_count": 13,
   "metadata": {},
   "outputs": [
    {
     "name": "stdout",
     "output_type": "stream",
     "text": [
      "   MovieID  UserID  Age CleanTitle  Year titleType  CompositeRating  Action  \\\n",
      "0        1       1    1  toy story  1995     movie             9.15       0   \n",
      "1        1       6   50  toy story  1995     movie             8.15       0   \n",
      "2        1       8   25  toy story  1995     movie             8.15       0   \n",
      "3        1       9   25  toy story  1995     movie             9.15       0   \n",
      "4        1      10   35  toy story  1995     movie             9.15       0   \n",
      "\n",
      "   Adult  Adventure  ...  Western  age_0-18  age_18-25  age_25-35  age_35-45  \\\n",
      "0      0          1  ...        0      True      False      False      False   \n",
      "1      0          1  ...        0     False      False      False      False   \n",
      "2      0          1  ...        0     False       True      False      False   \n",
      "3      0          1  ...        0     False       True      False      False   \n",
      "4      0          1  ...        0     False      False       True      False   \n",
      "\n",
      "   age_45-50  age_50-56  age_56+  gender_F  gender_M  \n",
      "0      False      False    False      True     False  \n",
      "1       True      False    False      True     False  \n",
      "2      False      False    False     False      True  \n",
      "3      False      False    False     False      True  \n",
      "4      False      False    False      True     False  \n",
      "\n",
      "[5 rows x 43 columns]\n",
      "\n",
      "length of the dataframe:  805610\n"
     ]
    }
   ],
   "source": [
    "print(merged_data.head())\n",
    "print(\"\\nlength of the dataframe: \", len(merged_data))"
   ]
  },
  {
   "cell_type": "markdown",
   "metadata": {},
   "source": [
    "## Creating User-Item Interaction Matrix"
   ]
  },
  {
   "cell_type": "code",
   "execution_count": 14,
   "metadata": {},
   "outputs": [
    {
     "name": "stdout",
     "output_type": "stream",
     "text": [
      "Size of user_item matrix:  (6040, 2341)\n"
     ]
    }
   ],
   "source": [
    "user_item = merged_data.pivot_table(index='UserID', columns='CleanTitle', values='CompositeRating')\n",
    "print(\"Size of user_item matrix: \", user_item.shape)"
   ]
  },
  {
   "cell_type": "markdown",
   "metadata": {},
   "source": [
    "### Handling Missing Values in the User-Item Matrix"
   ]
  },
  {
   "cell_type": "code",
   "execution_count": 15,
   "metadata": {},
   "outputs": [
    {
     "name": "stdout",
     "output_type": "stream",
     "text": [
      "Size of user_item matrix: \n",
      " CleanTitle  'til there was you  1-900  10 things i hate about you  \\\n",
      "UserID                                                              \n",
      "1                     5.092308    5.6                    7.072857   \n",
      "2                     5.092308    5.6                    7.072857   \n",
      "3                     5.092308    5.6                    7.072857   \n",
      "4                     5.092308    5.6                    7.072857   \n",
      "5                     5.092308    5.6                    7.072857   \n",
      "\n",
      "CleanTitle  101 dalmatians  12 angry men  2 days in the valley  20 dates  \\\n",
      "UserID                                                                     \n",
      "1                 5.896703      8.795455              6.533217  5.656115   \n",
      "2                 5.896703      8.795455              6.533217  5.656115   \n",
      "3                 5.896703      8.795455              6.533217  5.656115   \n",
      "4                 5.896703      8.795455              6.533217  5.656115   \n",
      "5                 5.896703      8.795455              6.533217  5.656115   \n",
      "\n",
      "CleanTitle  20,000 leagues under the sea  200 cigarettes  \\\n",
      "UserID                                                     \n",
      "1                               7.302609        5.883978   \n",
      "2                               7.302609        5.883978   \n",
      "3                               7.302609        5.883978   \n",
      "4                               7.302609        5.883978   \n",
      "5                               7.302609        5.883978   \n",
      "\n",
      "CleanTitle  2001: a space odyssey  ...  young and innocent  \\\n",
      "UserID                             ...                       \n",
      "1                        8.218765  ...                 6.7   \n",
      "2                        8.218765  ...                 6.7   \n",
      "3                        8.218765  ...                 6.7   \n",
      "4                        8.218765  ...                 6.7   \n",
      "5                        8.218765  ...                 6.7   \n",
      "\n",
      "CleanTitle  young doctors in love  young frankenstein  young guns  \\\n",
      "UserID                                                              \n",
      "1                        5.357595            8.250629    6.818149   \n",
      "2                        5.357595            8.250629    6.818149   \n",
      "3                        5.357595            8.250629    8.400000   \n",
      "4                        5.357595            8.250629    6.818149   \n",
      "5                        5.357595            8.250629    6.818149   \n",
      "\n",
      "CleanTitle  young guns ii  young sherlock holmes  your friends and neighbors  \\\n",
      "UserID                                                                         \n",
      "1                6.157859               6.790501                    6.526147   \n",
      "2                6.157859               6.790501                    6.526147   \n",
      "3                7.250000               6.790501                    6.526147   \n",
      "4                6.157859               6.790501                    6.526147   \n",
      "5                6.157859               6.790501                    6.526147   \n",
      "\n",
      "CleanTitle  zachariah  zero effect  zeus and roxanne  \n",
      "UserID                                                \n",
      "1                 6.4     7.200831          5.171739  \n",
      "2                 6.4     7.200831          5.171739  \n",
      "3                 6.4     7.200831          5.171739  \n",
      "4                 6.4     7.200831          5.171739  \n",
      "5                 6.4     7.200831          5.171739  \n",
      "\n",
      "[5 rows x 2341 columns]\n"
     ]
    }
   ],
   "source": [
    "user_item_filled = user_item.apply(lambda x: x.fillna(x.mean()), axis=0)\n",
    "\n",
    "global_mean = user_item_filled.stack().mean() \n",
    "user_item_filled = user_item_filled.fillna(global_mean)\n",
    "\n",
    "print(\"Size of user_item matrix: \\n\", user_item_filled.head())"
   ]
  },
  {
   "cell_type": "markdown",
   "metadata": {},
   "source": [
    "## Data Splitting for Model Evaluation"
   ]
  },
  {
   "cell_type": "code",
   "execution_count": 16,
   "metadata": {},
   "outputs": [],
   "source": [
    "train_data, test_data = train_test_split(merged_data, test_size=0.2, random_state=42)"
   ]
  },
  {
   "cell_type": "markdown",
   "metadata": {},
   "source": [
    "## Model Configuration and Evaluation"
   ]
  },
  {
   "cell_type": "code",
   "execution_count": 17,
   "metadata": {},
   "outputs": [
    {
     "name": "stdout",
     "output_type": "stream",
     "text": [
      "Evaluating RMSE, MAE of algorithm SVD on 5 split(s).\n",
      "\n",
      "                  Fold 1  Fold 2  Fold 3  Fold 4  Fold 5  Mean    Std     \n",
      "RMSE (testset)    0.8727  0.8783  0.8785  0.8733  0.8764  0.8758  0.0025  \n",
      "MAE (testset)     0.6858  0.6916  0.6914  0.6872  0.6891  0.6890  0.0023  \n",
      "Fit time          10.20   9.58    10.79   10.87   8.81    10.05   0.77    \n",
      "Test time         1.16    1.74    1.63    1.64    1.51    1.54    0.20    \n"
     ]
    },
    {
     "data": {
      "text/plain": [
       "{'test_rmse': array([0.87265639, 0.87833627, 0.87848166, 0.87330021, 0.8763585 ]),\n",
       " 'test_mae': array([0.68582327, 0.69160953, 0.69137669, 0.68715816, 0.68906172]),\n",
       " 'fit_time': (10.203290700912476,\n",
       "  9.581296682357788,\n",
       "  10.790733575820923,\n",
       "  10.872620582580566,\n",
       "  8.81301760673523),\n",
       " 'test_time': (1.1573431491851807,\n",
       "  1.7381346225738525,\n",
       "  1.6338632106781006,\n",
       "  1.636031150817871,\n",
       "  1.5122034549713135)}"
      ]
     },
     "execution_count": 17,
     "metadata": {},
     "output_type": "execute_result"
    }
   ],
   "source": [
    "reader = Reader(rating_scale=(1, 10))\n",
    "data = Dataset.load_from_df(train_data[['UserID', 'MovieID', 'CompositeRating']], reader)\n",
    "algo = SVD(n_factors=100, n_epochs=20, lr_all=0.005, reg_all=0.02)\n",
    "\n",
    "# Training and evaluating the model using 5-fold cross-validation\n",
    "cross_validate(algo, data, measures=['RMSE', 'MAE'], cv=5, verbose=True)"
   ]
  },
  {
   "cell_type": "markdown",
   "metadata": {},
   "source": [
    "## Training and Testing the Model"
   ]
  },
  {
   "cell_type": "code",
   "execution_count": 18,
   "metadata": {},
   "outputs": [
    {
     "name": "stdout",
     "output_type": "stream",
     "text": [
      "RMSE: 0.8815\n",
      "RMSE on test set is : 0.8814854130452326\n"
     ]
    }
   ],
   "source": [
    "from surprise.model_selection import train_test_split\n",
    "\n",
    "trainset, testset = train_test_split(data, test_size=0.25)\n",
    "\n",
    "# Train the SVD algorithm on the training set\n",
    "algo.fit(trainset)\n",
    "\n",
    "# Test the trained algorithm on the testing set\n",
    "predictions = algo.test(testset)\n",
    "\n",
    "# Calculate and print the RMSE to evaluate the model's accuracy\n",
    "rmse = accuracy.rmse(predictions)\n",
    "print(f'RMSE on test set is : {rmse}')"
   ]
  },
  {
   "cell_type": "markdown",
   "metadata": {},
   "source": [
    "## Calculating Couple Scores"
   ]
  },
  {
   "cell_type": "code",
   "execution_count": 19,
   "metadata": {},
   "outputs": [],
   "source": [
    "def couple_score(user1, user2, movie_id):\n",
    "    \n",
    "    # Predict the rating for each user\n",
    "    score1 = algo.predict(user1, movie_id).est\n",
    "    score2 = algo.predict(user2, movie_id).est\n",
    "\n",
    "    # Return the average of both scores\n",
    "    return (score1 + score2) / 2"
   ]
  },
  {
   "cell_type": "markdown",
   "metadata": {},
   "source": [
    "## Generating Movie Recommendations for Couples"
   ]
  },
  {
   "cell_type": "code",
   "execution_count": 20,
   "metadata": {},
   "outputs": [
    {
     "name": "stdout",
     "output_type": "stream",
     "text": [
      "('schindler's list', 9.209888025207805)\n",
      "('forrest gump', 8.998143340222164)\n",
      "('12 angry men', 8.858101281429853)\n",
      "('saving private ryan', 8.825859000170862)\n",
      "('to kill a mockingbird', 8.720936104715706)\n",
      "('rear window', 8.689598398280772)\n",
      "('it's a wonderful life', 8.65550308028416)\n",
      "('stop making sense', 8.648099606981534)\n",
      "('one flew over the cuckoo's nest', 8.64466817673021)\n",
      "('back to the future', 8.635209834421662)\n"
     ]
    }
   ],
   "source": [
    "def recommend_for_couple(user1, user2, merged_data):\n",
    "    \n",
    "    # Extract the IDs of all unique movies in the data\n",
    "    movies = set(merged_data['MovieID'])\n",
    "    scores = []\n",
    "\n",
    "    for movie in movies:\n",
    "\n",
    "        # Calculate the couple score for each movie\n",
    "        score = couple_score(user1, user2, movie)\n",
    "\n",
    "        # Get the movie title from the DataFrame\n",
    "        title = merged_data[merged_data['MovieID'] == movie]['CleanTitle'].values[0]\n",
    "        scores.append((title, score))\n",
    "\n",
    "    # Sort the movies by score in descending order\n",
    "    scores.sort(key=lambda x: x[1], reverse=True)\n",
    "\n",
    "    # Return the top 10 recommended movies\n",
    "    return scores[:10]\n",
    "\n",
    "recommended_movies = recommend_for_couple(1, 2, merged_data)\n",
    "\n",
    "for title, score in recommended_movies:\n",
    "    print(f\"('{title}', {score})\")\n"
   ]
  }
 ],
 "metadata": {
  "kernelspec": {
   "display_name": "Python 3",
   "language": "python",
   "name": "python3"
  },
  "language_info": {
   "codemirror_mode": {
    "name": "ipython",
    "version": 3
   },
   "file_extension": ".py",
   "mimetype": "text/x-python",
   "name": "python",
   "nbconvert_exporter": "python",
   "pygments_lexer": "ipython3",
   "version": "3.10.5"
  }
 },
 "nbformat": 4,
 "nbformat_minor": 2
}
