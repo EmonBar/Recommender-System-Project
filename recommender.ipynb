{
 "cells": [
  {
   "cell_type": "code",
   "execution_count": 71,
   "metadata": {},
   "outputs": [],
   "source": [
    "import pandas as pd\n",
    "import numpy as np\n",
    "from sklearn.preprocessing import MultiLabelBinarizer\n",
    "from sklearn.model_selection import train_test_split\n",
    "from surprise import SVD, Dataset, Reader\n",
    "from surprise.model_selection import cross_validate\n",
    "from surprise import accuracy"
   ]
  },
  {
   "cell_type": "code",
   "execution_count": 2,
   "metadata": {},
   "outputs": [
    {
     "name": "stdout",
     "output_type": "stream",
     "text": [
      "Movies Data:\n",
      "   MovieID                               Title                        Genres\n",
      "0        1                    Toy Story (1995)   Animation|Children's|Comedy\n",
      "1        2                      Jumanji (1995)  Adventure|Children's|Fantasy\n",
      "2        3             Grumpier Old Men (1995)                Comedy|Romance\n",
      "3        4            Waiting to Exhale (1995)                  Comedy|Drama\n",
      "4        5  Father of the Bride Part II (1995)                        Comedy\n",
      "\n",
      "Ratings Data:\n",
      "   UserID  MovieID  Rating  Timestamp\n",
      "0       1     1193       5  978300760\n",
      "1       1      661       3  978302109\n",
      "2       1      914       3  978301968\n",
      "3       1     3408       4  978300275\n",
      "4       1     2355       5  978824291\n",
      "\n",
      "Users Data:\n",
      "   UserID Gender  Age  Occupation Zip-code\n",
      "0       1      F    1          10    48067\n",
      "1       2      M   56          16    70072\n",
      "2       3      M   25          15    55117\n",
      "3       4      M   45           7    02460\n",
      "4       5      M   25          20    55455\n"
     ]
    }
   ],
   "source": [
    "# Paths to the files\n",
    "movies_path = 'ml-1m/movies.dat'\n",
    "ratings_path = 'ml-1m/ratings.dat'\n",
    "users_path = 'ml-1m/users.dat'\n",
    "\n",
    "# Reading each file correctly\n",
    "movies = pd.read_csv(movies_path, sep='::', header=None, names=['MovieID', 'Title', 'Genres'], engine='python', encoding='latin1')\n",
    "ratings = pd.read_csv(ratings_path, sep='::', header=None, names=['UserID', 'MovieID', 'Rating', 'Timestamp'], engine='python', encoding='latin1')\n",
    "users = pd.read_csv(users_path, sep='::', header=None, names=['UserID', 'Gender', 'Age', 'Occupation', 'Zip-code'], engine='python', encoding='latin1')\n",
    "\n",
    "# Displaying the first few rows of each dataframe\n",
    "print(\"Movies Data:\")\n",
    "print(movies.head())\n",
    "\n",
    "print(\"\\nRatings Data:\")\n",
    "print(ratings.head())\n",
    "\n",
    "print(\"\\nUsers Data:\")\n",
    "print(users.head())\n"
   ]
  },
  {
   "cell_type": "code",
   "execution_count": 3,
   "metadata": {},
   "outputs": [],
   "source": [
    "users.drop(columns=['Zip-code'], inplace=True)\n",
    "ratings.drop(columns=['Timestamp'], inplace=True)"
   ]
  },
  {
   "cell_type": "code",
   "execution_count": 4,
   "metadata": {},
   "outputs": [
    {
     "name": "stdout",
     "output_type": "stream",
     "text": [
      "   MovieID             Title                       Genres  UserID  Rating  \\\n",
      "0        1  Toy Story (1995)  Animation|Children's|Comedy       1       5   \n",
      "1        1  Toy Story (1995)  Animation|Children's|Comedy       6       4   \n",
      "2        1  Toy Story (1995)  Animation|Children's|Comedy       8       4   \n",
      "3        1  Toy Story (1995)  Animation|Children's|Comedy       9       5   \n",
      "4        1  Toy Story (1995)  Animation|Children's|Comedy      10       5   \n",
      "\n",
      "  Gender  Age  Occupation  \n",
      "0      F    1          10  \n",
      "1      F   50           9  \n",
      "2      M   25          12  \n",
      "3      M   25          17  \n",
      "4      F   35           1  \n",
      "taille :  1000209\n"
     ]
    }
   ],
   "source": [
    "movies_ratings = pd.merge(movies, ratings, on='MovieID')\n",
    "movielens_data = pd.merge(movies_ratings, users, on='UserID')\n",
    "\n",
    "print(movielens_data.head())\n",
    "print(\"taille : \", len(movielens_data))"
   ]
  },
  {
   "cell_type": "code",
   "execution_count": 5,
   "metadata": {},
   "outputs": [
    {
     "name": "stdout",
     "output_type": "stream",
     "text": [
      "basics :\n",
      "      tconst titleType            primaryTitle           originalTitle  \\\n",
      "0  tt0000001     short              Carmencita              Carmencita   \n",
      "1  tt0000002     short  Le clown et ses chiens  Le clown et ses chiens   \n",
      "2  tt0000003     short          Pauvre Pierrot          Pauvre Pierrot   \n",
      "3  tt0000004     short             Un bon bock             Un bon bock   \n",
      "4  tt0000005     short        Blacksmith Scene        Blacksmith Scene   \n",
      "\n",
      "  isAdult startYear endYear runtimeMinutes                    genres  \n",
      "0       0      1894      \\N              1         Documentary,Short  \n",
      "1       0      1892      \\N              5           Animation,Short  \n",
      "2       0      1892      \\N              5  Animation,Comedy,Romance  \n",
      "3       0      1892      \\N             12           Animation,Short  \n",
      "4       0      1893      \\N              1              Comedy,Short  \n",
      "\n",
      "ratings :\n",
      "      tconst  averageRating  numVotes\n",
      "0  tt0000001            5.7      2059\n",
      "1  tt0000002            5.6       278\n",
      "2  tt0000003            6.5      2028\n",
      "3  tt0000004            5.4       179\n",
      "4  tt0000005            6.2      2795\n",
      "\n",
      "crew :\n",
      "      tconst  directors writers\n",
      "0  tt0000001  nm0005690      \\N\n",
      "1  tt0000002  nm0721526      \\N\n",
      "2  tt0000003  nm0721526      \\N\n",
      "3  tt0000004  nm0721526      \\N\n",
      "4  tt0000005  nm0005690      \\N\n"
     ]
    }
   ],
   "source": [
    "imdb_basics =  pd.read_csv('title.basics.tsv', delimiter='\\t', low_memory=False)\n",
    "imdb_ratings = pd.read_csv('title.ratings.tsv', delimiter='\\t', low_memory=False)\n",
    "imdb_crew = pd.read_csv('title.crew.tsv', delimiter='\\t', low_memory=False)\n",
    "\n",
    "print(\"basics :\")\n",
    "print(imdb_basics.head())\n",
    "\n",
    "print(\"\\nratings :\")\n",
    "print(imdb_ratings.head())\n",
    "\n",
    "print(\"\\ncrew :\")\n",
    "print(imdb_crew.head())"
   ]
  },
  {
   "cell_type": "code",
   "execution_count": 6,
   "metadata": {},
   "outputs": [],
   "source": [
    "imdb_basics.drop(columns=['endYear'], inplace=True)\n",
    "imdb_basics.drop(columns=['runtimeMinutes'], inplace=True)\n",
    "imdb_basics.drop(columns=['isAdult'], inplace=True)\n",
    "\n",
    "imdb_crew.drop(columns=['writers'], inplace=True) "
   ]
  },
  {
   "cell_type": "code",
   "execution_count": 7,
   "metadata": {},
   "outputs": [
    {
     "name": "stdout",
     "output_type": "stream",
     "text": [
      "      tconst titleType            primaryTitle           originalTitle  \\\n",
      "0  tt0000001     short              Carmencita              Carmencita   \n",
      "1  tt0000002     short  Le clown et ses chiens  Le clown et ses chiens   \n",
      "2  tt0000003     short          Pauvre Pierrot          Pauvre Pierrot   \n",
      "3  tt0000004     short             Un bon bock             Un bon bock   \n",
      "4  tt0000005     short        Blacksmith Scene        Blacksmith Scene   \n",
      "\n",
      "  startYear                    genres  averageRating  numVotes  directors  \n",
      "0      1894         Documentary,Short            5.7      2059  nm0005690  \n",
      "1      1892           Animation,Short            5.6       278  nm0721526  \n",
      "2      1892  Animation,Comedy,Romance            6.5      2028  nm0721526  \n",
      "3      1892           Animation,Short            5.4       179  nm0721526  \n",
      "4      1893              Comedy,Short            6.2      2795  nm0005690  \n",
      "taille :  1438597\n"
     ]
    }
   ],
   "source": [
    "# Merge basics with ratings and crew data\n",
    "imdb_data = imdb_basics.merge(imdb_ratings, on='tconst').merge(imdb_crew, on='tconst')\n",
    "\n",
    "print(imdb_data.head())\n",
    "print(\"taille : \", len(imdb_data))"
   ]
  },
  {
   "cell_type": "code",
   "execution_count": 10,
   "metadata": {},
   "outputs": [],
   "source": [
    "imdb_data['startYear'] = imdb_data['startYear'].replace('\\\\N', np.nan)\n",
    "imdb_data['startYear'] = imdb_data['startYear'].astype(float)\n",
    "imdb_data.dropna(subset=['startYear'], inplace=True)"
   ]
  },
  {
   "cell_type": "code",
   "execution_count": 11,
   "metadata": {},
   "outputs": [],
   "source": [
    "# Strip and lowercase titles for better matching\n",
    "movielens_data['CleanTitle'] = movielens_data['Title'].str.extract(r'^(.*?) \\(\\d{4}\\)$')[0].str.lower().str.strip()\n",
    "imdb_data['CleanTitle'] = imdb_data['primaryTitle'].str.lower().str.strip()\n",
    "\n",
    "# Convert years to integers for exact matching\n",
    "movielens_data['Year'] = movielens_data['Title'].str.extract(r'\\((\\d{4})\\)')[0].astype(int)\n",
    "imdb_data['Year'] = imdb_data['startYear'].astype(int)"
   ]
  },
  {
   "cell_type": "code",
   "execution_count": 12,
   "metadata": {},
   "outputs": [],
   "source": [
    "merged_data = pd.merge(movielens_data, imdb_data, left_on=['CleanTitle', 'Year'], right_on=['CleanTitle', 'Year'])"
   ]
  },
  {
   "cell_type": "code",
   "execution_count": 20,
   "metadata": {},
   "outputs": [
    {
     "name": "stdout",
     "output_type": "stream",
     "text": [
      "   MovieID             Title                       Genres  UserID Gender  Age  \\\n",
      "0        1  Toy Story (1995)  Animation|Children's|Comedy       1      F    1   \n",
      "1        1  Toy Story (1995)  Animation|Children's|Comedy       6      F   50   \n",
      "2        1  Toy Story (1995)  Animation|Children's|Comedy       8      M   25   \n",
      "3        1  Toy Story (1995)  Animation|Children's|Comedy       9      M   25   \n",
      "4        1  Toy Story (1995)  Animation|Children's|Comedy      10      F   35   \n",
      "\n",
      "   Occupation CleanTitle  Year titleType                      genres  \\\n",
      "0          10  toy story  1995     movie  Adventure,Animation,Comedy   \n",
      "1           9  toy story  1995     movie  Adventure,Animation,Comedy   \n",
      "2          12  toy story  1995     movie  Adventure,Animation,Comedy   \n",
      "3          17  toy story  1995     movie  Adventure,Animation,Comedy   \n",
      "4           1  toy story  1995     movie  Adventure,Animation,Comedy   \n",
      "\n",
      "   numVotes  directors  CompositeRating  \n",
      "0   1075722  nm0005124             9.15  \n",
      "1   1075722  nm0005124             8.15  \n",
      "2   1075722  nm0005124             8.15  \n",
      "3   1075722  nm0005124             9.15  \n",
      "4   1075722  nm0005124             9.15  \n",
      "taille :  805610\n"
     ]
    }
   ],
   "source": [
    "merged_data['ScaledRating'] = merged_data['Rating'] * 2  # Scaling MovieLens ratings from 1-5 to 1-10\n",
    "merged_data['CompositeRating'] = (merged_data['ScaledRating'] + merged_data['averageRating']) / 2\n",
    "\n",
    "merged_data.drop(columns=['tconst', 'primaryTitle', 'originalTitle', 'startYear'], inplace=True)\n",
    "\n",
    "print(merged_data.head())\n",
    "print(\"taille : \", len(merged_data))"
   ]
  },
  {
   "cell_type": "code",
   "execution_count": 21,
   "metadata": {},
   "outputs": [],
   "source": [
    "merged_data.drop(['Title', 'Genres'], axis=1, inplace=True)"
   ]
  },
  {
   "cell_type": "code",
   "execution_count": 22,
   "metadata": {},
   "outputs": [
    {
     "name": "stdout",
     "output_type": "stream",
     "text": [
      "   MovieID  UserID Gender  Age  Occupation CleanTitle  Year titleType  \\\n",
      "0        1       1      F    1          10  toy story  1995     movie   \n",
      "1        1       6      F   50           9  toy story  1995     movie   \n",
      "2        1       8      M   25          12  toy story  1995     movie   \n",
      "3        1       9      M   25          17  toy story  1995     movie   \n",
      "4        1      10      F   35           1  toy story  1995     movie   \n",
      "\n",
      "                       genres  numVotes  directors  CompositeRating  \n",
      "0  Adventure,Animation,Comedy   1075722  nm0005124             9.15  \n",
      "1  Adventure,Animation,Comedy   1075722  nm0005124             8.15  \n",
      "2  Adventure,Animation,Comedy   1075722  nm0005124             8.15  \n",
      "3  Adventure,Animation,Comedy   1075722  nm0005124             9.15  \n",
      "4  Adventure,Animation,Comedy   1075722  nm0005124             9.15  \n",
      "taille :  805610\n"
     ]
    }
   ],
   "source": [
    "print(merged_data.head())\n",
    "print(\"taille : \", len(merged_data))"
   ]
  },
  {
   "cell_type": "code",
   "execution_count": 24,
   "metadata": {},
   "outputs": [],
   "source": [
    "mlb = MultiLabelBinarizer()\n",
    "genres_encoded = mlb.fit_transform(merged_data['genres'].str.split(','))\n",
    "genres_df = pd.DataFrame(genres_encoded, columns=mlb.classes_, index=merged_data.index)\n",
    "merged_data = pd.concat([merged_data, genres_df], axis=1)"
   ]
  },
  {
   "cell_type": "code",
   "execution_count": 38,
   "metadata": {},
   "outputs": [],
   "source": [
    "user_item = merged_data.pivot_table(index='UserID', columns='CleanTitle', values='CompositeRating')"
   ]
  },
  {
   "cell_type": "code",
   "execution_count": 39,
   "metadata": {},
   "outputs": [
    {
     "name": "stdout",
     "output_type": "stream",
     "text": [
      "Size of user_item matrix:  (6040, 2341)\n"
     ]
    }
   ],
   "source": [
    "print(\"Size of user_item matrix: \", user_item.shape)"
   ]
  },
  {
   "cell_type": "code",
   "execution_count": 53,
   "metadata": {},
   "outputs": [
    {
     "name": "stdout",
     "output_type": "stream",
     "text": [
      "Size of user_item matrix: \n",
      " CleanTitle  'til there was you  1-900  10 things i hate about you  \\\n",
      "UserID                                                              \n",
      "1                     5.092308    5.6                    7.072857   \n",
      "2                     5.092308    5.6                    7.072857   \n",
      "3                     5.092308    5.6                    7.072857   \n",
      "4                     5.092308    5.6                    7.072857   \n",
      "5                     5.092308    5.6                    7.072857   \n",
      "\n",
      "CleanTitle  101 dalmatians  12 angry men  2 days in the valley  20 dates  \\\n",
      "UserID                                                                     \n",
      "1                 5.896703      8.795455              6.533217  5.656115   \n",
      "2                 5.896703      8.795455              6.533217  5.656115   \n",
      "3                 5.896703      8.795455              6.533217  5.656115   \n",
      "4                 5.896703      8.795455              6.533217  5.656115   \n",
      "5                 5.896703      8.795455              6.533217  5.656115   \n",
      "\n",
      "CleanTitle  20,000 leagues under the sea  200 cigarettes  \\\n",
      "UserID                                                     \n",
      "1                               7.302609        5.883978   \n",
      "2                               7.302609        5.883978   \n",
      "3                               7.302609        5.883978   \n",
      "4                               7.302609        5.883978   \n",
      "5                               7.302609        5.883978   \n",
      "\n",
      "CleanTitle  2001: a space odyssey  ...  young and innocent  \\\n",
      "UserID                             ...                       \n",
      "1                        8.218765  ...                 6.7   \n",
      "2                        8.218765  ...                 6.7   \n",
      "3                        8.218765  ...                 6.7   \n",
      "4                        8.218765  ...                 6.7   \n",
      "5                        8.218765  ...                 6.7   \n",
      "\n",
      "CleanTitle  young doctors in love  young frankenstein  young guns  \\\n",
      "UserID                                                              \n",
      "1                        5.357595            8.250629    6.818149   \n",
      "2                        5.357595            8.250629    6.818149   \n",
      "3                        5.357595            8.250629    8.400000   \n",
      "4                        5.357595            8.250629    6.818149   \n",
      "5                        5.357595            8.250629    6.818149   \n",
      "\n",
      "CleanTitle  young guns ii  young sherlock holmes  your friends and neighbors  \\\n",
      "UserID                                                                         \n",
      "1                6.157859               6.790501                    6.526147   \n",
      "2                6.157859               6.790501                    6.526147   \n",
      "3                7.250000               6.790501                    6.526147   \n",
      "4                6.157859               6.790501                    6.526147   \n",
      "5                6.157859               6.790501                    6.526147   \n",
      "\n",
      "CleanTitle  zachariah  zero effect  zeus and roxanne  \n",
      "UserID                                                \n",
      "1                 6.4     7.200831          5.171739  \n",
      "2                 6.4     7.200831          5.171739  \n",
      "3                 6.4     7.200831          5.171739  \n",
      "4                 6.4     7.200831          5.171739  \n",
      "5                 6.4     7.200831          5.171739  \n",
      "\n",
      "[5 rows x 2341 columns]\n"
     ]
    }
   ],
   "source": [
    "user_item_filled = user_item.apply(lambda x: x.fillna(x.mean()), axis=0)\n",
    "\n",
    "global_mean = user_item_filled.stack().mean() \n",
    "user_item_filled = user_item_filled.fillna(global_mean)\n",
    "\n",
    "print(\"Size of user_item matrix: \\n\", user_item_filled.head())"
   ]
  },
  {
   "cell_type": "markdown",
   "metadata": {},
   "source": [
    "## Préparer les données"
   ]
  },
  {
   "cell_type": "code",
   "execution_count": 60,
   "metadata": {},
   "outputs": [],
   "source": [
    "train_data, test_data = train_test_split(merged_data, test_size=0.2, random_state=42)"
   ]
  },
  {
   "cell_type": "markdown",
   "metadata": {},
   "source": [
    "## Implémenter la factorisation matricielle"
   ]
  },
  {
   "cell_type": "code",
   "execution_count": 63,
   "metadata": {},
   "outputs": [
    {
     "name": "stdout",
     "output_type": "stream",
     "text": [
      "Evaluating RMSE, MAE of algorithm SVD on 5 split(s).\n",
      "\n",
      "                  Fold 1  Fold 2  Fold 3  Fold 4  Fold 5  Mean    Std     \n",
      "RMSE (testset)    0.8739  0.8778  0.8759  0.8780  0.8759  0.8763  0.0015  \n",
      "MAE (testset)     0.6872  0.6906  0.6887  0.6899  0.6897  0.6892  0.0012  \n",
      "Fit time          13.97   11.36   11.45   11.13   9.66    11.51   1.39    \n",
      "Test time         1.54    1.75    1.88    1.33    1.46    1.59    0.20    \n"
     ]
    },
    {
     "data": {
      "text/plain": [
       "{'test_rmse': array([0.87389516, 0.87783942, 0.87587608, 0.87796862, 0.87585307]),\n",
       " 'test_mae': array([0.68722103, 0.69059548, 0.68870506, 0.68987422, 0.6897319 ]),\n",
       " 'fit_time': (13.968403577804565,\n",
       "  11.363643884658813,\n",
       "  11.446570873260498,\n",
       "  11.134852647781372,\n",
       "  9.655152320861816),\n",
       " 'test_time': (1.544600486755371,\n",
       "  1.7465672492980957,\n",
       "  1.8793866634368896,\n",
       "  1.3272809982299805,\n",
       "  1.4647176265716553)}"
      ]
     },
     "execution_count": 63,
     "metadata": {},
     "output_type": "execute_result"
    }
   ],
   "source": [
    "reader = Reader(rating_scale=(1, 10))\n",
    "data = Dataset.load_from_df(train_data[['UserID', 'MovieID', 'CompositeRating']], reader)\n",
    "algo = SVD()\n",
    "\n",
    "# Entraînement et évaluation par validation croisée\n",
    "cross_validate(algo, data, measures=['RMSE', 'MAE'], cv=5, verbose=True)"
   ]
  },
  {
   "cell_type": "markdown",
   "metadata": {},
   "source": [
    "## Entraîner et évaluer le modèle"
   ]
  },
  {
   "cell_type": "code",
   "execution_count": 73,
   "metadata": {},
   "outputs": [
    {
     "name": "stdout",
     "output_type": "stream",
     "text": [
      "RMSE: 0.8806\n",
      "Le RMSE sur le jeu de test est de: 0.8806135412498529\n"
     ]
    }
   ],
   "source": [
    "from surprise.model_selection import train_test_split\n",
    "\n",
    "# Utilise la fonction train_test_split de surprise\n",
    "trainset, testset = train_test_split(data, test_size=0.25)\n",
    "algo.fit(trainset)\n",
    "predictions = algo.test(testset)\n",
    "\n",
    "# Calculer et afficher le RMSE\n",
    "rmse = accuracy.rmse(predictions)\n",
    "print(f'Le RMSE sur le jeu de test est de: {rmse}')"
   ]
  },
  {
   "cell_type": "markdown",
   "metadata": {},
   "source": [
    "## Définir la logique de score de couple"
   ]
  },
  {
   "cell_type": "code",
   "execution_count": 74,
   "metadata": {},
   "outputs": [],
   "source": [
    "def couple_score(user1, user2, movie_id):\n",
    "    # Prédire la note pour chaque utilisateur\n",
    "    score1 = algo.predict(user1, movie_id).est\n",
    "    score2 = algo.predict(user2, movie_id).est\n",
    "    # Retourner la moyenne des scores\n",
    "    return (score1 + score2) / 2"
   ]
  },
  {
   "cell_type": "markdown",
   "metadata": {},
   "source": [
    "## Recommander des films pour le couple"
   ]
  },
  {
   "cell_type": "code",
   "execution_count": 89,
   "metadata": {},
   "outputs": [
    {
     "name": "stdout",
     "output_type": "stream",
     "text": [
      "('pulp fiction', 8.734018472939749)\n",
      "('casablanca', 8.597106801264777)\n",
      "('schindler's list', 8.56550001097175)\n",
      "('it's a wonderful life', 8.509324475830777)\n",
      "('goodfellas', 8.481306880487494)\n",
      "('one flew over the cuckoo's nest', 8.444750905430734)\n",
      "('to kill a mockingbird', 8.43857912389823)\n",
      "('star wars: episode iv - a new hope', 8.427903120839328)\n",
      "('lawrence of arabia', 8.369085075035528)\n",
      "('rear window', 8.368393759960274)\n"
     ]
    }
   ],
   "source": [
    "def recommend_for_couple(user1, user2, merged_data):\n",
    "    # Extraire les ID de tous les films uniques dans les données\n",
    "    movies = set(merged_data['MovieID'])\n",
    "    scores = []\n",
    "    for movie in movies:\n",
    "        # Calculer le score de couple pour chaque film\n",
    "        score = couple_score(user1, user2, movie)\n",
    "        # Obtenir le titre du film à partir du DataFrame des titres\n",
    "        title = merged_data[merged_data['MovieID'] == movie]['CleanTitle'].values[0]\n",
    "        scores.append((title, score))\n",
    "    # Trier les films par score décroissant\n",
    "    scores.sort(key=lambda x: x[1], reverse=True)\n",
    "    # Retourner les 10 meilleurs films recommandés\n",
    "    return scores[:10]\n",
    "\n",
    "recommended_movies = recommend_for_couple(50, 13, merged_data)\n",
    "\n",
    "for title, score in recommended_movies:\n",
    "    print(f\"('{title}', {score})\")\n"
   ]
  }
 ],
 "metadata": {
  "kernelspec": {
   "display_name": "Python 3",
   "language": "python",
   "name": "python3"
  },
  "language_info": {
   "codemirror_mode": {
    "name": "ipython",
    "version": 3
   },
   "file_extension": ".py",
   "mimetype": "text/x-python",
   "name": "python",
   "nbconvert_exporter": "python",
   "pygments_lexer": "ipython3",
   "version": "3.10.5"
  }
 },
 "nbformat": 4,
 "nbformat_minor": 2
}
